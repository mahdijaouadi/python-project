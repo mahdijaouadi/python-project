{
 "cells": [
  {
   "cell_type": "code",
   "execution_count": 3,
   "metadata": {},
   "outputs": [],
   "source": [
    "import pandas as pd\n",
    "import yfinance as yf\n",
    "import sys\n",
    "sys.path.append('../helpers')\n",
    "from data_preprocessing import data_cleaning\n"
   ]
  },
  {
   "cell_type": "code",
   "execution_count": null,
   "metadata": {},
   "outputs": [],
   "source": [
    "daily_data=yf.download(tickers='TSLA',interval='1d',start='2024-01-01')\n",
    "daily_data.rename(columns={'Open':'open','High':'high','Low':'low','Close':'close'},inplace=True)\n",
    "daily_data.reset_index(inplace=True,drop=False)\n",
    "daily_data=data_cleaning(daily_data)\n",
    "print(daily_data)\n"
   ]
  }
 ],
 "metadata": {
  "kernelspec": {
   "display_name": "myenv",
   "language": "python",
   "name": "python3"
  },
  "language_info": {
   "codemirror_mode": {
    "name": "ipython",
    "version": 3
   },
   "file_extension": ".py",
   "mimetype": "text/x-python",
   "name": "python",
   "nbconvert_exporter": "python",
   "pygments_lexer": "ipython3",
   "version": "3.11.5"
  }
 },
 "nbformat": 4,
 "nbformat_minor": 2
}
